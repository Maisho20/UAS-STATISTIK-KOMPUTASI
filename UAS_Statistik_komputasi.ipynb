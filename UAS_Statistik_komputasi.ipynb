{
  "nbformat": 4,
  "nbformat_minor": 0,
  "metadata": {
    "colab": {
      "provenance": [],
      "mount_file_id": "1ted7nutY0rM9Z4o4W-MjMz-wYsi1RhNp",
      "authorship_tag": "ABX9TyODdG3t64n+uFO3fmBO4yJM",
      "include_colab_link": true
    },
    "kernelspec": {
      "name": "python3",
      "display_name": "Python 3"
    },
    "language_info": {
      "name": "python"
    }
  },
  "cells": [
    {
      "cell_type": "markdown",
      "metadata": {
        "id": "view-in-github",
        "colab_type": "text"
      },
      "source": [
        "<a href=\"https://colab.research.google.com/github/Maisho20/UAS-STATISTIK-KOMPUTASI/blob/main/UAS_Statistik_komputasi.ipynb\" target=\"_parent\"><img src=\"https://colab.research.google.com/assets/colab-badge.svg\" alt=\"Open In Colab\"/></a>"
      ]
    },
    {
      "cell_type": "markdown",
      "source": [
        "#UAS STATISTIK KOMPUTASI\n",
        "\n",
        "---\n",
        "\n",
        "\n",
        "\n",
        "# Nama: Sabbaha Naufal Erwanda\n",
        "# NIM : 2141720221\n",
        "# Kelas : TI-2C"
      ],
      "metadata": {
        "id": "JGvofSyT9Pce"
      }
    },
    {
      "cell_type": "code",
      "execution_count": null,
      "metadata": {
        "id": "XzquF4cs8kL5",
        "colab": {
          "base_uri": "https://localhost:8080/"
        },
        "outputId": "bd21e144-755a-40d7-d5e3-fad1ecd28c78"
      },
      "outputs": [
        {
          "output_type": "stream",
          "name": "stdout",
          "text": [
            "Mounted at /content/drives/\n"
          ]
        }
      ],
      "source": [
        "from google.colab import drive\n",
        "drive.mount('/content/drives/')"
      ]
    },
    {
      "cell_type": "code",
      "source": [
        "#Impor modul pandas dan scipy\n",
        "import pandas as pd\n",
        "import numpy as np\n",
        "\n",
        "#baca file csv\n",
        "dt = pd.read_csv(\"/content/drives/MyDrive/Colab Notebooks/Walmart.csv\")"
      ],
      "metadata": {
        "id": "Qbcy3620OZzr"
      },
      "execution_count": null,
      "outputs": []
    },
    {
      "cell_type": "code",
      "source": [
        "#Soal 1A\n",
        "print(\"kolom yang dapat menjadi permodelan regresi adalah sebagai berikut:\")\n",
        "print(\"Weekly_sale \\n  Ini adalah variabel yang ingin diprediksi. Weekly_Sales mewakili penjualan mingguan toko.\")\n",
        "print(\"Holiday_Flag \\n Ini adalah variabel biner yang menunjukkan apakah minggu tersebut termasuk dalam periode liburan\")\n",
        "print(\"Temperature \\n Ini adalah variabel numerik yang mencatat suhu pada minggu tersebut.\")\n",
        "print(\"Fuel_Price \\n Ini adalah variabel numerik yang mencatat harga bahan bakar pada minggu tersebut.\")\n",
        "print(\"CPI \\n Ini adalah variabel numerik yang mewakili Indeks Harga Konsumen pada minggu tersebut.\")\n",
        "print(\"Unemployment \\n Ini adalah variabel numerik yang mencatat tingkat pengangguran pada minggu tersebut.\")"
      ],
      "metadata": {
        "colab": {
          "base_uri": "https://localhost:8080/"
        },
        "id": "nmtMZ-w3Oz5j",
        "outputId": "f3aaefcb-6816-413c-e74c-e51c505110fc"
      },
      "execution_count": null,
      "outputs": [
        {
          "output_type": "stream",
          "name": "stdout",
          "text": [
            "kolom yang dapat menjadi permodelan regresi adalah sebagai berikut:\n",
            "Weekly_sale \n",
            "  Ini adalah variabel yang ingin diprediksi. Weekly_Sales mewakili penjualan mingguan toko.\n",
            "Holiday_Flag \n",
            " Ini adalah variabel biner yang menunjukkan apakah minggu tersebut termasuk dalam periode liburan\n",
            "Temperature \n",
            " Ini adalah variabel numerik yang mencatat suhu pada minggu tersebut.\n",
            "Fuel_Price \n",
            " Ini adalah variabel numerik yang mencatat harga bahan bakar pada minggu tersebut.\n",
            "CPI \n",
            " Ini adalah variabel numerik yang mewakili Indeks Harga Konsumen pada minggu tersebut.\n",
            "Unemployment \n",
            " Ini adalah variabel numerik yang mencatat tingkat pengangguran pada minggu tersebut.\n"
          ]
        }
      ]
    },
    {
      "cell_type": "code",
      "source": [
        "#Soal 1B\n",
        "\n",
        "# Filter data hanya untuk toko dengan nomor 1\n",
        "store_4_data = dt[dt[\"Store\"] == 4]\n",
        "\n",
        "# Menghitung statistik deskriptif untuk toko 1\n",
        "statistics = store_4_data[[\"Weekly_Sales\", \"Holiday_Flag\", \"Temperature\", \"Fuel_Price\", \"CPI\", \"Unemployment\"]].describe()\n",
        "\n",
        "# Menampilkan statistik deskriptif\n",
        "print(statistics)"
      ],
      "metadata": {
        "colab": {
          "base_uri": "https://localhost:8080/"
        },
        "id": "c-6Nq2hXObtw",
        "outputId": "7d321f59-ef15-419a-a44e-ec0ecfc3eb3f"
      },
      "execution_count": null,
      "outputs": [
        {
          "output_type": "stream",
          "name": "stdout",
          "text": [
            "       Weekly_Sales  Holiday_Flag  Temperature  Fuel_Price         CPI  \\\n",
            "count  1.430000e+02    143.000000   143.000000  143.000000  143.000000   \n",
            "mean   2.094713e+06      0.069930    62.253357    3.216972  128.679669   \n",
            "std    2.662014e+05      0.255926    16.180023    0.416967    1.858300   \n",
            "min    1.762539e+06      0.000000    28.840000    2.540000  126.064000   \n",
            "25%    1.929611e+06      0.000000    48.470000    2.764500  126.590094   \n",
            "50%    2.073951e+06      0.000000    64.220000    3.290000  129.075677   \n",
            "75%    2.175039e+06      0.000000    77.440000    3.586500  130.502414   \n",
            "max    3.676389e+06      1.000000    86.090000    3.881000  131.193097   \n",
            "\n",
            "       Unemployment  \n",
            "count    143.000000  \n",
            "mean       5.964692  \n",
            "std        1.421267  \n",
            "min        3.879000  \n",
            "25%        4.607000  \n",
            "50%        5.946000  \n",
            "75%        7.127000  \n",
            "max        8.623000  \n"
          ]
        }
      ]
    },
    {
      "cell_type": "code",
      "source": [
        "#Soal 1C\n",
        "\n",
        "\n",
        "filtered_data = dt[dt['Store'] == 4]\n",
        "\n",
        "#data Fuel_Price\n",
        "Fuel = filtered_data['Fuel_Price']\n",
        "# Hitung kuartil menggunakan numpy\n",
        "q1 = np.percentile(Fuel, 25)\n",
        "q2 = np.percentile(Fuel, 50)\n",
        "q3 = np.percentile(Fuel, 75)\n",
        "iqr = np.percentile(Fuel, 75) - np.percentile(Fuel, 25)\n",
        "\n",
        "print(\"Nilai Q1, Q2, Q3 dan IQR dari data Fuel_Price\")\n",
        "print(\"Kuartil 1 (Q1):\", q1)\n",
        "print(\"Kuartil 2 (Q2):\", q2)\n",
        "print(\"Kuartil 3 (Q3):\", q3)\n",
        "print(\"Interquartile Range (IQR):\", iqr)\n",
        "print()\n",
        "\n",
        "#data CPI\n",
        "CPI = filtered_data['CPI']\n",
        "# Hitung kuartil menggunakan numpy\n",
        "q1 = np.percentile(CPI, 25)\n",
        "q2 = np.percentile(CPI, 50)\n",
        "q3 = np.percentile(CPI, 75)\n",
        "iqr = np.percentile(CPI, 75) - np.percentile(CPI, 25)\n",
        "\n",
        "print(\"Nilai Q1, Q2, Q3 dan IQR dari data CPI\")\n",
        "print(\"Kuartil 1 (Q1):\", q1)\n",
        "print(\"Kuartil 2 (Q2):\", q2)\n",
        "print(\"Kuartil 3 (Q3):\", q3)\n",
        "print(\"Interquartile Range (IQR):\", iqr)\n",
        "print()\n",
        "\n",
        "#data Unemployment\n",
        "Unemployment = filtered_data['Unemployment']\n",
        "# Hitung kuartil menggunakan numpy\n",
        "q1 = np.percentile(Unemployment, 25)\n",
        "q2 = np.percentile(Unemployment, 50)\n",
        "q3 = np.percentile(Unemployment, 75)\n",
        "iqr = np.percentile(Unemployment, 75) - np.percentile(Unemployment, 25)\n",
        "\n",
        "print(\"Nilai Q1, Q2, Q3 dan IQR dari data Unemployment\")\n",
        "print(\"Kuartil 1 (Q1):\", q1)\n",
        "print(\"Kuartil 2 (Q2):\", q2)\n",
        "print(\"Kuartil 3 (Q3):\", q3)\n",
        "print(\"Interquartile Range (IQR):\", iqr)"
      ],
      "metadata": {
        "colab": {
          "base_uri": "https://localhost:8080/"
        },
        "id": "T0MHZnW29OhE",
        "outputId": "19e7e0d6-855f-4090-b660-946db97bef01"
      },
      "execution_count": null,
      "outputs": [
        {
          "output_type": "stream",
          "name": "stdout",
          "text": [
            "Nilai Q1, Q2, Q3 dan IQR dari data Fuel_Price\n",
            "Kuartil 1 (Q1): 2.7645\n",
            "Kuartil 2 (Q2): 3.29\n",
            "Kuartil 3 (Q3): 3.5865\n",
            "Interquartile Range (IQR): 0.8220000000000001\n",
            "\n",
            "Nilai Q1, Q2, Q3 dan IQR dari data CPI\n",
            "Kuartil 1 (Q1): 126.59009445\n",
            "Kuartil 2 (Q2): 129.0756774\n",
            "Kuartil 3 (Q3): 130.5024138\n",
            "Interquartile Range (IQR): 3.912319350000004\n",
            "\n",
            "Nilai Q1, Q2, Q3 dan IQR dari data Unemployment\n",
            "Kuartil 1 (Q1): 4.607\n",
            "Kuartil 2 (Q2): 5.946\n",
            "Kuartil 3 (Q3): 7.127\n",
            "Interquartile Range (IQR): 2.5199999999999996\n"
          ]
        }
      ]
    },
    {
      "cell_type": "code",
      "source": [
        "#Soal 1D\n",
        "\n",
        "# Filter data berdasarkan kelompok 'Holiday_Flag'\n",
        "holiday_data = dt[dt['Holiday_Flag'] == 1]\n",
        "non_holiday_data = dt[dt['Holiday_Flag'] == 0]\n",
        "\n",
        "# Ambil kolom yang ingin digunakan untuk menghitung varians\n",
        "holiday_week_var = np.var(holiday_data['Weekly_Sales'])\n",
        "non_holiday_week_var = np.var(non_holiday_data['Weekly_Sales'])\n",
        "\n",
        "# Print nilai varians\n",
        "print(\"Varians kelompok Holiday Week:\", holiday_week_var)\n",
        "print(\"Varians kelompok Non-Holiday Week:\", non_holiday_week_var)"
      ],
      "metadata": {
        "colab": {
          "base_uri": "https://localhost:8080/"
        },
        "id": "nJfEgu34AqW9",
        "outputId": "880084f7-82a6-4700-8bca-2c32e51ef9e7"
      },
      "execution_count": null,
      "outputs": [
        {
          "output_type": "stream",
          "name": "stdout",
          "text": [
            "Varians kelompok Holiday Week: 393112843994.82806\n",
            "Varians kelompok Non-Holiday Week: 312381212681.62024\n"
          ]
        }
      ]
    },
    {
      "cell_type": "code",
      "source": [
        "#Soal 1E\n",
        "\n",
        "filtered_data1 = dt[dt['Store'] == 1]\n",
        "filtered_data2 = dt[dt['Store'] == 2]\n",
        "filtered_data3 = dt[dt['Store'] == 3]\n",
        "filtered_data4 = dt[dt['Store'] == 4]\n",
        "\n",
        "#data Weekly_Sales\n",
        "store1 = filtered_data1['Weekly_Sales']\n",
        "store2 = filtered_data2['Weekly_Sales']\n",
        "store3 = filtered_data3['Weekly_Sales']\n",
        "store4 = filtered_data4['Weekly_Sales']\n",
        "\n",
        "# Hitung mean menggunakan numpy\n",
        "mean1 = np.mean(store1)\n",
        "mean2 = np.mean(store2)\n",
        "mean3 = np.mean(store3)\n",
        "mean4 = np.mean(store4)\n",
        "\n",
        "print(\"Menghitung rata-rata Weekly Sales dari setiap toko\")\n",
        "print(\"Mean Store 1:\", mean1)\n",
        "print(\"Mean Store 2:\", mean2)\n",
        "print(\"Mean Store 3:\", mean3)\n",
        "print(\"Mean Store 4:\", mean4)\n",
        "print()\n",
        "print(\"Tidak, rata-rata Weekly Sales berbeda\")"
      ],
      "metadata": {
        "colab": {
          "base_uri": "https://localhost:8080/"
        },
        "id": "lT1Uo847Jdjl",
        "outputId": "d80d64e3-be56-4a10-96bc-05161e425ada"
      },
      "execution_count": null,
      "outputs": [
        {
          "output_type": "stream",
          "name": "stdout",
          "text": [
            "Menghitung rata-rata Weekly Sales dari setiap toko\n",
            "Mean Store 1: 1555264.3975524476\n",
            "Mean Store 2: 1925751.3355244752\n",
            "Mean Store 3: 402704.441048951\n",
            "Mean Store 4: 2094712.9606993007\n",
            "\n",
            "Tidak, rata-rata Weekly Sales berbeda\n"
          ]
        }
      ]
    },
    {
      "cell_type": "code",
      "source": [
        "#Soal 1F\n",
        "\n",
        "filtered_data1 = dt[dt['Store'] == 1]\n",
        "filtered_data2 = dt[dt['Store'] == 2]\n",
        "filtered_data3 = dt[dt['Store'] == 3]\n",
        "filtered_data4 = dt[dt['Store'] == 4]\n",
        "\n",
        "#data CPI\n",
        "store1 = filtered_data1['CPI']\n",
        "store2 = filtered_data2['CPI']\n",
        "store3 = filtered_data3['CPI']\n",
        "store4 = filtered_data4['CPI']\n",
        "\n",
        "# Hitung mean menggunakan numpy\n",
        "cpi_mean1 = np.mean(store1)\n",
        "cpi_mean2 = np.mean(store2)\n",
        "cpi_mean3 = np.mean(store3)\n",
        "cpi_mean4 = np.mean(store4)\n",
        "\n",
        "print(\"Menghitung rata-rata CPI dari setiap toko\")\n",
        "print(\"Mean Store 1:\", cpi_mean1)\n",
        "print(\"Mean Store 2:\", cpi_mean2)\n",
        "print(\"Mean Store 3:\", cpi_mean3)\n",
        "print(\"Mean Store 4:\", cpi_mean4)\n",
        "print()\n",
        "print(\"CPI yang paling tinggi adalah CPI dari store 3 dengan data\", cpi_mean3)"
      ],
      "metadata": {
        "colab": {
          "base_uri": "https://localhost:8080/"
        },
        "id": "eZxP2DwjK8i3",
        "outputId": "11decf85-d14d-4e7c-ebc0-1b4354459447"
      },
      "execution_count": null,
      "outputs": [
        {
          "output_type": "stream",
          "name": "stdout",
          "text": [
            "Menghitung rata-rata CPI dari setiap toko\n",
            "Mean Store 1: 215.99689176643358\n",
            "Mean Store 2: 215.64631062727273\n",
            "Mean Store 3: 219.39153126363635\n",
            "Mean Store 4: 128.67966946083916\n",
            "\n",
            "CPI yang paling tinggi adalah CPI dari store 3 dengan data 219.39153126363635\n"
          ]
        }
      ]
    },
    {
      "cell_type": "code",
      "source": [
        "#Soal 1G\n",
        "\n",
        "# Filter data berdasarkan kelompok 'Holiday_Flag'\n",
        "holiday_data = dt[dt['Holiday_Flag'] == 1]\n",
        "non_holiday_data = dt[dt['Holiday_Flag'] == 0]\n",
        "\n",
        "# Ambil kolom yang ingin digunakan untuk menghitung varians\n",
        "holiday_week_mean = np.mean(holiday_data['CPI'])\n",
        "non_holiday_week_mean = np.mean(non_holiday_data['CPI'])\n",
        "\n",
        "# Print nilai varians\n",
        "print(\"Rata-rata CPI kelompok Holiday Week:\", holiday_week_mean)\n",
        "print(\"Rata-Rata CPI kelompok Non-Holiday Week:\", non_holiday_week_mean)\n",
        "print()\n",
        "print(\"CPI yang paling tinggi adalah CPI dari kelompok Non-Holiday Week dengan data\", non_holiday_week_mean)"
      ],
      "metadata": {
        "colab": {
          "base_uri": "https://localhost:8080/"
        },
        "id": "08GnrMWtMWdR",
        "outputId": "c06f4189-61d1-4420-8d7f-220a1b7b17b2"
      },
      "execution_count": null,
      "outputs": [
        {
          "output_type": "stream",
          "name": "stdout",
          "text": [
            "Rata-rata CPI kelompok Holiday Week: 171.26809160977777\n",
            "Rata-Rata CPI kelompok Non-Holiday Week: 171.60172484419382\n",
            "\n",
            "CPI yang paling tinggi adalah CPI dari kelompok Non-Holiday Week dengan data 171.60172484419382\n"
          ]
        }
      ]
    },
    {
      "cell_type": "code",
      "source": [
        "#Soal 2A\n",
        "from scipy.stats import kstest\n",
        "\n",
        "weekly_sales = dt['Weekly_Sales']\n",
        "result_weekly_sales = kstest(weekly_sales, 'norm')\n",
        "\n",
        "fuel_price = dt['Fuel_Price']\n",
        "result_fuel_price = kstest(fuel_price, 'norm')\n",
        "\n",
        "alpha = 0.05\n",
        "\n",
        "if result_weekly_sales.pvalue > alpha:\n",
        "    print(\"Kolom 'Weekly_Sales' berdasar dari distribusi normal.\")\n",
        "else:\n",
        "    print(\"Kolom 'Weekly_Sales' tidak berdasar dari distribusi normal.\")\n",
        "\n",
        "if result_fuel_price.pvalue > alpha:\n",
        "    print(\"Kolom 'Fuel_Price' berdasar dari distribusi normal.\")\n",
        "else:\n",
        "    print(\"Kolom 'Fuel_Price' tidak berdasar dari distribusi normal.\")"
      ],
      "metadata": {
        "colab": {
          "base_uri": "https://localhost:8080/"
        },
        "id": "yA9y2GrmNmMV",
        "outputId": "987aeed0-e65e-4216-8b09-d49fea4a0a78"
      },
      "execution_count": null,
      "outputs": [
        {
          "output_type": "stream",
          "name": "stdout",
          "text": [
            "Kolom 'Weekly_Sales' tidak berdasar dari distribusi normal.\n",
            "Kolom 'Fuel_Price' tidak berdasar dari distribusi normal.\n"
          ]
        }
      ]
    },
    {
      "cell_type": "code",
      "source": [
        "#Soal 3A\n",
        "\n",
        "from scipy.stats import pearsonr\n",
        "\n",
        "independent_variables = ['Store', 'Holiday_Flag', 'Temperature', 'Fuel_Price', 'CPI', 'Unemployment']\n",
        "dependent_variable = 'Weekly_Sales'\n",
        "correlations = {}\n",
        "\n",
        "for variable in independent_variables:\n",
        "    correlation, _ = pearsonr(dt[variable], dt[dependent_variable])\n",
        "    correlations[variable] = correlation\n",
        "\n",
        "for variable, correlation in correlations.items():\n",
        "    print(f\"Korelasi antara {variable} dan {dependent_variable}: {correlation}\")"
      ],
      "metadata": {
        "colab": {
          "base_uri": "https://localhost:8080/"
        },
        "id": "SjYfQsUuPzSx",
        "outputId": "93d9a9cb-a466-4289-d278-9702bf95c442"
      },
      "execution_count": null,
      "outputs": [
        {
          "output_type": "stream",
          "name": "stdout",
          "text": [
            "Korelasi antara Store dan Weekly_Sales: -0.33533201479281577\n",
            "Korelasi antara Holiday_Flag dan Weekly_Sales: 0.036890968010414506\n",
            "Korelasi antara Temperature dan Weekly_Sales: -0.06381001317946956\n",
            "Korelasi antara Fuel_Price dan Weekly_Sales: 0.009463786314475135\n",
            "Korelasi antara CPI dan Weekly_Sales: -0.07263416204017623\n",
            "Korelasi antara Unemployment dan Weekly_Sales: -0.10617608965795423\n"
          ]
        }
      ]
    },
    {
      "cell_type": "markdown",
      "source": [
        "# Soal 2B\n",
        "\n",
        "---\n",
        "\n",
        "\n",
        "\n",
        "### Berdasarkan soal Nomer 1A, Variable independen dan variabel dependennya sebagai berikut\n",
        "\n",
        "## Variable independen\n",
        "### 1. Weekly_sale\n",
        "\n",
        "## Variabel dependen\n",
        "### 1. Holiday_Flag\n",
        "### 2. Temperature\n",
        "### 3. Fuel_Price\n",
        "### 4. CPI\n",
        "### 5. Unemployment"
      ],
      "metadata": {
        "id": "VOW8vD2CRwhe"
      }
    },
    {
      "cell_type": "code",
      "source": [
        "#Soal 3B\n",
        "\n",
        "negative_correlations = []\n",
        "\n",
        "for variable, correlation in correlations.items():\n",
        "    if correlation < 0:\n",
        "        negative_correlations.append((variable, dependent_variable))\n",
        "\n",
        "if len(negative_correlations) > 0:\n",
        "    print(\"Pasangan variabel independent dan dependent dengan korelasi negatif:\")\n",
        "    for pair in negative_correlations:\n",
        "        print(f\"{pair[0]} dan {pair[1]}\")\n",
        "else:\n",
        "    print(\"Tidak ada pasangan variabel independent dan dependent dengan korelasi negatif.\")\n"
      ],
      "metadata": {
        "colab": {
          "base_uri": "https://localhost:8080/"
        },
        "id": "CmHaVTDfRgvP",
        "outputId": "e46e3cd9-b920-42d8-97d8-1454cf987541"
      },
      "execution_count": null,
      "outputs": [
        {
          "output_type": "stream",
          "name": "stdout",
          "text": [
            "Pasangan variabel independent dan dependent dengan korelasi negatif:\n",
            "Store dan Weekly_Sales\n",
            "Temperature dan Weekly_Sales\n",
            "CPI dan Weekly_Sales\n",
            "Unemployment dan Weekly_Sales\n"
          ]
        }
      ]
    },
    {
      "cell_type": "code",
      "source": [
        "#Soal 4\n",
        "\n",
        "import statsmodels.api as sm\n",
        "\n",
        "dependent_variable = dt['Weekly_Sales']\n",
        "independent_variable = dt['Fuel_Price']\n",
        "independent_variable = sm.add_constant(independent_variable)\n",
        "model = sm.OLS(dependent_variable, independent_variable)\n",
        "result = model.fit()\n",
        "intercept = result.params[0]\n",
        "slope = result.params[1]\n",
        "\n",
        "print(f\"Model regresi: y = {intercept} + {slope} * x\")"
      ],
      "metadata": {
        "colab": {
          "base_uri": "https://localhost:8080/"
        },
        "id": "JL7qAcdnSe-m",
        "outputId": "3a00a9b5-daef-4ada-9ecc-14e0d0d5c278"
      },
      "execution_count": null,
      "outputs": [
        {
          "output_type": "stream",
          "name": "stdout",
          "text": [
            "Model regresi: y = 1007884.9200801762 + 11635.76428297975 * x\n"
          ]
        }
      ]
    }
  ]
}